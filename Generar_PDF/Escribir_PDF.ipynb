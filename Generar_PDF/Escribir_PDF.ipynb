{
 "cells": [
  {
   "cell_type": "markdown",
   "metadata": {},
   "source": [
    "# Escribir en un pdf automáticamente, a partir del recorrido de un csv."
   ]
  },
  {
   "cell_type": "code",
   "execution_count": 1,
   "metadata": {},
   "outputs": [],
   "source": [
    "#Exportamos las librerías que vamos a utilizar\n",
    "import pandas as pd\n",
    "from reportlab.pdfgen import canvas\n",
    "from reportlab.lib.pagesizes import A4, letter\n",
    "from PyPDF2 import PdfFileWriter, PdfFileReader #Librerías requerida\n",
    "from datetime import datetime, date\n",
    "import io\n",
    "import os"
   ]
  },
  {
   "cell_type": "code",
   "execution_count": 2,
   "metadata": {
    "scrolled": true
   },
   "outputs": [
    {
     "data": {
      "text/html": [
       "<div>\n",
       "<style scoped>\n",
       "    .dataframe tbody tr th:only-of-type {\n",
       "        vertical-align: middle;\n",
       "    }\n",
       "\n",
       "    .dataframe tbody tr th {\n",
       "        vertical-align: top;\n",
       "    }\n",
       "\n",
       "    .dataframe thead th {\n",
       "        text-align: right;\n",
       "    }\n",
       "</style>\n",
       "<table border=\"1\" class=\"dataframe\">\n",
       "  <thead>\n",
       "    <tr style=\"text-align: right;\">\n",
       "      <th></th>\n",
       "      <th>index</th>\n",
       "      <th>dni</th>\n",
       "      <th>Nombre</th>\n",
       "      <th>Apellido</th>\n",
       "      <th>Calle</th>\n",
       "      <th>Hotel</th>\n",
       "      <th>FechaEntrada</th>\n",
       "    </tr>\n",
       "  </thead>\n",
       "  <tbody>\n",
       "    <tr>\n",
       "      <td>0</td>\n",
       "      <td>1</td>\n",
       "      <td>33333333</td>\n",
       "      <td>Novak</td>\n",
       "      <td>Djokovic</td>\n",
       "      <td>Amado Jorge</td>\n",
       "      <td>Fenicia</td>\n",
       "      <td>12/04/2020</td>\n",
       "    </tr>\n",
       "    <tr>\n",
       "      <td>1</td>\n",
       "      <td>2</td>\n",
       "      <td>44444444</td>\n",
       "      <td>Edward</td>\n",
       "      <td>Witten</td>\n",
       "      <td>Fisica Teorica</td>\n",
       "      <td>Gatorade</td>\n",
       "      <td>22/04/2020</td>\n",
       "    </tr>\n",
       "    <tr>\n",
       "      <td>2</td>\n",
       "      <td>3</td>\n",
       "      <td>55555555</td>\n",
       "      <td>Alan</td>\n",
       "      <td>Turing</td>\n",
       "      <td>Computacion</td>\n",
       "      <td>Redbull</td>\n",
       "      <td>05/04/2020</td>\n",
       "    </tr>\n",
       "    <tr>\n",
       "      <td>3</td>\n",
       "      <td>4</td>\n",
       "      <td>66666666</td>\n",
       "      <td>Cristiano</td>\n",
       "      <td>Ronaldo</td>\n",
       "      <td>Futbol</td>\n",
       "      <td>Alas</td>\n",
       "      <td>25/04/2020</td>\n",
       "    </tr>\n",
       "    <tr>\n",
       "      <td>4</td>\n",
       "      <td>5</td>\n",
       "      <td>77777777</td>\n",
       "      <td>Julian</td>\n",
       "      <td>Assange</td>\n",
       "      <td>Wikileaks</td>\n",
       "      <td>Terror</td>\n",
       "      <td>17/04/2020</td>\n",
       "    </tr>\n",
       "  </tbody>\n",
       "</table>\n",
       "</div>"
      ],
      "text/plain": [
       "   index       dni     Nombre  Apellido           Calle     Hotel FechaEntrada\n",
       "0      1  33333333      Novak  Djokovic     Amado Jorge   Fenicia   12/04/2020\n",
       "1      2  44444444     Edward    Witten  Fisica Teorica  Gatorade   22/04/2020\n",
       "2      3  55555555       Alan    Turing     Computacion   Redbull   05/04/2020\n",
       "3      4  66666666  Cristiano   Ronaldo          Futbol      Alas   25/04/2020\n",
       "4      5  77777777     Julian   Assange       Wikileaks    Terror   17/04/2020"
      ]
     },
     "execution_count": 2,
     "metadata": {},
     "output_type": "execute_result"
    }
   ],
   "source": [
    "df = pd.read_csv('./prueba.csv')\n",
    "df"
   ]
  },
  {
   "cell_type": "code",
   "execution_count": 3,
   "metadata": {},
   "outputs": [],
   "source": [
    "def controlar_fecha(fecha_entrada):\n",
    "    # Establecer formato de las fechas a introducir: dd/mm/aaaa \n",
    "    formato = \"%d/%m/%Y\"     \n",
    "    # Introducir fecha final utilizando el formato definido\n",
    "    ahora = date.today()\n",
    "    fecha_ingreso = datetime.strptime(fecha_entrada, formato).date()\n",
    "    salida = (ahora - fecha_ingreso).days\n",
    "    return salida"
   ]
  },
  {
   "cell_type": "code",
   "execution_count": 4,
   "metadata": {},
   "outputs": [],
   "source": [
    "def crear_pdf(i, cadena):\n",
    "    packet = io.BytesIO()\n",
    "    # Se crear un nuevo pdf utilizando ReportLab\n",
    "    can = canvas.Canvas(packet, pagesize=A4)\n",
    "    can.drawString(85, 625 , cadena)\n",
    "    can.setFont('Times-Roman', 12)\n",
    "    can.save()\n",
    "    # Nos movemos al comienzo del búfer StringIO\n",
    "    packet.seek(0)\n",
    "    nuevo_pdf = PdfFileReader(packet)\n",
    "    # Leemos el pdf base\n",
    "    existe_pdf = PdfFileReader(open(\"./CONSTANCIA.pdf\", \"rb\"))\n",
    "    output = PdfFileWriter()\n",
    "    # Se agregan los datos de la persona que será dada de alta, al pdf ya existente\n",
    "    page = existe_pdf.getPage(0)\n",
    "    page.mergePage(nuevo_pdf.getPage(0))\n",
    "    output.addPage(page)\n",
    "    # Finalmente se escribe la salida, en un archivo real\n",
    "    outputStream = open(\"./\"+ str(i+1) + \"-permiso.pdf\", \"wb\")\n",
    "    output.write(outputStream)\n",
    "    outputStream.close()    "
   ]
  },
  {
   "cell_type": "code",
   "execution_count": 5,
   "metadata": {},
   "outputs": [],
   "source": [
    "for i in range(len(df['FechaEntrada'])):\n",
    "    fecha_entrada = df['FechaEntrada'][i]\n",
    "    fecha = controlar_fecha(fecha_entrada)\n",
    "    if fecha > 14:\n",
    "        cadena = str(df['Apellido'][i]).upper() + ' ' + str(df['Nombre'][i]).upper() + ' ' + 'DNI' + ' ' + str(df['dni'][i]).upper()\n",
    "        crear_pdf(i, cadena)        "
   ]
  },
  {
   "cell_type": "code",
   "execution_count": null,
   "metadata": {},
   "outputs": [],
   "source": []
  }
 ],
 "metadata": {
  "kernelspec": {
   "display_name": "Python 3",
   "language": "python",
   "name": "python3"
  },
  "language_info": {
   "codemirror_mode": {
    "name": "ipython",
    "version": 3
   },
   "file_extension": ".py",
   "mimetype": "text/x-python",
   "name": "python",
   "nbconvert_exporter": "python",
   "pygments_lexer": "ipython3",
   "version": "3.7.4"
  }
 },
 "nbformat": 4,
 "nbformat_minor": 2
}
